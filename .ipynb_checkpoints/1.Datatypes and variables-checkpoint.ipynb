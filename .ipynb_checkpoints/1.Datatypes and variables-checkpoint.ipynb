{
 "cells": [
  {
   "cell_type": "markdown",
   "id": "d7304ad7-8dd7-4b5c-a707-675faeddba68",
   "metadata": {},
   "source": [
    "Datatypes and variables"
   ]
  },
  {
   "cell_type": "code",
   "execution_count": 2,
   "id": "c5e903f7-06c4-442f-aae8-99abc81dcc3d",
   "metadata": {},
   "outputs": [
    {
     "name": "stdout",
     "output_type": "stream",
     "text": [
      "3\n"
     ]
    }
   ],
   "source": [
    "a=3\n",
    "print(a)"
   ]
  },
  {
   "cell_type": "markdown",
   "id": "eddde030-8e82-4e82-a9f4-42c0ab04dae8",
   "metadata": {},
   "source": [
    "Inputs"
   ]
  },
  {
   "cell_type": "code",
   "execution_count": 3,
   "id": "2fffbdbf-f397-4707-a0dd-fd32ea3f7b86",
   "metadata": {},
   "outputs": [
    {
     "name": "stdout",
     "output_type": "stream",
     "text": [
      "<class 'int'>\n"
     ]
    }
   ],
   "source": [
    "a = 10\n",
    "print(type(a))"
   ]
  },
  {
   "cell_type": "code",
   "execution_count": 4,
   "id": "eaef923e-7de2-4efb-ba25-ab3f56db3c27",
   "metadata": {},
   "outputs": [
    {
     "name": "stdin",
     "output_type": "stream",
     "text": [
      "  10\n"
     ]
    },
    {
     "name": "stdout",
     "output_type": "stream",
     "text": [
      "<class 'str'>\n"
     ]
    }
   ],
   "source": [
    "a = input(\" \")\n",
    "print(type(a))"
   ]
  },
  {
   "cell_type": "code",
   "execution_count": null,
   "id": "d234b922-6ef3-45ba-8ade-6236bf1a5630",
   "metadata": {},
   "outputs": [],
   "source": [
    "Type casting"
   ]
  },
  {
   "cell_type": "code",
   "execution_count": 8,
   "id": "e0c9fb5a-39c7-4539-b365-30ffd1a74597",
   "metadata": {},
   "outputs": [
    {
     "name": "stdin",
     "output_type": "stream",
     "text": [
      "Enter a number  100\n"
     ]
    },
    {
     "name": "stdout",
     "output_type": "stream",
     "text": [
      "<class 'int'>\n"
     ]
    }
   ],
   "source": [
    "a=int(input(\"Enter a number \"))\n",
    "print(type(a))"
   ]
  },
  {
   "cell_type": "code",
   "execution_count": null,
   "id": "4bb3633c-cfa2-45a1-9ec2-ef8ed86bd3e9",
   "metadata": {},
   "outputs": [],
   "source": []
  }
 ],
 "metadata": {
  "kernelspec": {
   "display_name": "Python 3 (ipykernel)",
   "language": "python",
   "name": "python3"
  },
  "language_info": {
   "codemirror_mode": {
    "name": "ipython",
    "version": 3
   },
   "file_extension": ".py",
   "mimetype": "text/x-python",
   "name": "python",
   "nbconvert_exporter": "python",
   "pygments_lexer": "ipython3",
   "version": "3.12.7"
  }
 },
 "nbformat": 4,
 "nbformat_minor": 5
}
